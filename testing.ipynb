{
 "cells": [
  {
   "cell_type": "markdown",
   "source": [
    "## Testing different cascades"
   ],
   "metadata": {
    "collapsed": false,
    "pycharm": {
     "name": "#%% md\n"
    }
   }
  },
  {
   "cell_type": "code",
   "execution_count": 1,
   "metadata": {
    "collapsed": true,
    "pycharm": {
     "name": "#%%\n"
    }
   },
   "outputs": [],
   "source": [
    "# imports\n",
    "import cv2\n",
    "import os\n",
    "import numpy as np\n",
    "import pandas as pd\n",
    "import seaborn as sns\n",
    "import matplotlib.pyplot as plt\n",
    "import json"
   ]
  },
  {
   "cell_type": "markdown",
   "source": [
    "First let's count how many ears (positives) there are in our train set."
   ],
   "metadata": {
    "collapsed": false,
    "pycharm": {
     "name": "#%% md\n"
    }
   }
  },
  {
   "cell_type": "code",
   "execution_count": 2,
   "outputs": [],
   "source": [
    "def count_ears_test():\n",
    "    nr_ears = 0\n",
    "    for photo in os.listdir('AWEForSegmentation/test'):\n",
    "        mask = cv2.imread(f'./AWEForSegmentation/testannot_rect/{photo}', 0).astype(bool)\n",
    "        i = 0\n",
    "        while i < mask.shape[0]:\n",
    "            j = 0\n",
    "            while j < mask.shape[1]:\n",
    "                if mask[i, j]:\n",
    "                    if i == 0 or not mask[i-1, j]:                  # upper row\n",
    "                        if j == 0 or not mask[i, j-1]:              # upper left corner\n",
    "                            nr_ears += 1\n",
    "                j += 1\n",
    "            i += 1\n",
    "    return nr_ears\n",
    "\n",
    "NR_EARS = count_ears_test()"
   ],
   "metadata": {
    "collapsed": false,
    "pycharm": {
     "name": "#%%\n"
    }
   }
  },
  {
   "cell_type": "markdown",
   "source": [
    "To get all separate bounding boxes for each picture I addapted the `positive_description_file()` function\n",
    "from `data_preparation.ipynb`. I deleted photo `0058.png`, because it's the only one with covered bounding boxes."
   ],
   "metadata": {
    "collapsed": false,
    "pycharm": {
     "name": "#%% md\n"
    }
   }
  },
  {
   "cell_type": "code",
   "execution_count": 3,
   "outputs": [],
   "source": [
    "def positive_description_file_test():\n",
    "    info = {}\n",
    "    for photo in os.listdir('AWEForSegmentation/test'):\n",
    "        mask = cv2.imread(f'./AWEForSegmentation/testannot_rect/{photo}', 0).astype(bool)\n",
    "        info[photo] = []\n",
    "        unfinished = {}\n",
    "        i = 0\n",
    "        while i < mask.shape[0]:\n",
    "            j = 0\n",
    "            while j < mask.shape[1]:\n",
    "                if mask[i, j]:\n",
    "                    if i == 0 or not mask[i-1, j]:                  # upper row\n",
    "                        if j == 0 or not mask[i, j-1]:              # upper left corner\n",
    "                            unfinished[j] = {'start_y': i}          # there can only be one unfinished on y=j\n",
    "                            width = 0\n",
    "                            while j < mask.shape[1] and mask[i, j]:\n",
    "                                j += 1\n",
    "                                width += 1\n",
    "                            unfinished[j-width]['width'] = width\n",
    "                    elif mask[i-1, j] and mask[i+1, j]:             # left column\n",
    "                        j += unfinished[j]['width']\n",
    "                    elif mask[i-1, j] and not mask[i+1, j]:         # lower left corner\n",
    "                        height = i - unfinished[j]['start_y'] + 1\n",
    "                        info[photo].append([j, unfinished[j]['start_y'], unfinished[j]['width'], height])\n",
    "                        j += unfinished[j]['width']\n",
    "                    else:\n",
    "                        print(photo, i, j)\n",
    "                else:\n",
    "                    j += 1\n",
    "            i += 1\n",
    "    with open('test_bounding_boxes.json', 'w') as f:\n",
    "        f.write(json.dumps(info))\n",
    "\n",
    "positive_description_file_test()"
   ],
   "metadata": {
    "collapsed": false,
    "pycharm": {
     "name": "#%%\n"
    }
   }
  },
  {
   "cell_type": "markdown",
   "source": [
    "Below we have functions for 2 tests, one on captured video from webcam and one on test images in *AWEForSegmentation*\n",
    "dataset."
   ],
   "metadata": {
    "collapsed": false,
    "pycharm": {
     "name": "#%% md\n"
    }
   }
  },
  {
   "cell_type": "code",
   "execution_count": 37,
   "outputs": [],
   "source": [
    "def camera_test(cascade_folder):\n",
    "    \"\"\"Shows recognized ears with cascade from 'cascade_folder' on video from webcam.\"\"\"\n",
    "    # Load the cascade\n",
    "    ear_cascade = cv2.CascadeClassifier(f'{cascade_folder}/cascade.xml')\n",
    "\n",
    "    # To capture video from webcam.\n",
    "    cap = cv2.VideoCapture(0)\n",
    "\n",
    "    while True:\n",
    "        # Read the frame\n",
    "        _, img = cap.read()\n",
    "        # Convert to grayscale\n",
    "        gray = cv2.cvtColor(img, cv2.COLOR_BGR2GRAY)\n",
    "        # Detect the faces\n",
    "        ears = ear_cascade.detectMultiScale(img, 1.1, 25)\n",
    "        for (x, y, w, h) in ears:\n",
    "            cv2.rectangle(img, (x, y), (x+w, y+h), (0, 0, 255), 2)\n",
    "        # Draw the rectangle around each ear\n",
    "        # Display\n",
    "        cv2.imshow('img', img)\n",
    "        # Stop if escape key is pressed\n",
    "        k = cv2.waitKey(30) & 0xff\n",
    "        if k==27:\n",
    "            break\n",
    "    # Release the VideoCapture object\n",
    "    cap.release()\n",
    "\n",
    "\n",
    "def awe_test(cascade_folder, scaleFactor, minNeighbours, test_visual_folder=None):\n",
    "    \"\"\"Tests cascade from 'cascade_folder' using parameters 'scaleFactor' and 'minNeighbours'.\n",
    "    If test_visual_folder is provided, the function will create a visual representation in folder 'test'.\"\"\"\n",
    "    results = {'TP': 0, 'FP': 0}     # results will be averaged over all test images\n",
    "    ear_cascade = cv2.CascadeClassifier(f'{cascade_folder}/cascade.xml')\n",
    "    if test_visual_folder:\n",
    "        if not os.path.exists(f'test/{test_visual_folder}'):\n",
    "                os.makedirs(f'test/{test_visual_folder}')\n",
    "    with open(\"test_bounding_boxes.json\", \"r\") as f:\n",
    "        bounding_boxes = json.load(f)\n",
    "    for photo in os.listdir('AWEForSegmentation/test'):\n",
    "        img = cv2.imread(f'./AWEForSegmentation/test/{photo}', cv2.IMREAD_UNCHANGED)\n",
    "        ears = ear_cascade.detectMultiScale(img, scaleFactor, minNeighbours)\n",
    "        for (x, y, w, h) in ears:\n",
    "            cv2.rectangle(img, (x, y), (x + w, y + h), (0, 255, 0), 2)  # Draw the rectangle around each ear\n",
    "            false_pos = True\n",
    "            for (xt, yt, wt, ht) in bounding_boxes[photo]:\n",
    "                mask = np.zeros(img.shape[:2])\n",
    "                mask[yt:yt+ht, xt:xt+ht] = 1            # 1 where the bounding box is\n",
    "                intersection = np.sum(mask[y:y+h, x:x+h])       # where our detection is\n",
    "                mask[y:y+h, x:x+h] = 1                  # add detection to mask to get union\n",
    "                iou = intersection / np.sum(mask)\n",
    "                if iou > 0.5:\n",
    "                    results['TP'] += 1\n",
    "                    false_pos = False\n",
    "            if false_pos: results['FP'] += 1\n",
    "        if test_visual_folder:\n",
    "            for (xt, yt, wt, ht) in bounding_boxes[photo]:\n",
    "                cv2.rectangle(img, (xt, yt), (xt + wt, yt + ht), (0, 0, 255), 1)\n",
    "            cv2.imwrite(f'test/{test_visual_folder}/{photo[:4]}_{cascade_folder}.png', img)\n",
    "\n",
    "    results['TPR'] = results['TP'] / NR_EARS            # recall - true positive rate\n",
    "    if results['TP'] + results['FP'] != 0:\n",
    "        results['PPV'] = results['TP'] / (results['TP'] + results['FP'])  # precision - positive predictive value\n",
    "    else: results['PPV'] = 0\n",
    "    if results['TPR'] + results['PPV'] != 0:\n",
    "        results['F1'] = 2 * results['TPR'] * results['PPV'] / (results['TPR'] + results['PPV'])     # F1 score\n",
    "    else: results['F1'] = 0\n",
    "\n",
    "    return results"
   ],
   "metadata": {
    "collapsed": false,
    "pycharm": {
     "name": "#%%\n"
    }
   }
  },
  {
   "cell_type": "code",
   "execution_count": null,
   "outputs": [],
   "source": [
    "camera_test('cascadecoco_people')"
   ],
   "metadata": {
    "collapsed": false,
    "pycharm": {
     "name": "#%%\n"
    }
   }
  },
  {
   "cell_type": "code",
   "source": [
    "r = awe_test('cascade_coco_people_all_maxFAR03', 1.1, 6, 'test_best')"
   ],
   "metadata": {
    "collapsed": false,
    "pycharm": {
     "name": "#%%\n"
    }
   },
   "execution_count": 38,
   "outputs": [
    {
     "name": "stdout",
     "output_type": "stream",
     "text": [
      "sum:  175\n"
     ]
    }
   ]
  },
  {
   "cell_type": "markdown",
   "source": [
    "Next block creates a table *results* that holds test results for different cascades and minNeighbours parameter used in\n",
    "detection."
   ],
   "metadata": {
    "collapsed": false,
    "pycharm": {
     "name": "#%% md\n"
    }
   }
  },
  {
   "cell_type": "code",
   "execution_count": 39,
   "outputs": [
    {
     "name": "stdout",
     "output_type": "stream",
     "text": [
      "sum:  3958\n",
      "sum:  1412\n",
      "sum:  903\n",
      "sum:  605\n",
      "sum:  3917\n",
      "sum:  1405\n",
      "sum:  908\n",
      "sum:  614\n",
      "sum:  903\n",
      "sum:  148\n",
      "sum:  51\n",
      "sum:  11\n",
      "sum:  3443\n",
      "sum:  1489\n",
      "sum:  940\n",
      "sum:  541\n",
      "sum:  3443\n",
      "sum:  1489\n",
      "sum:  940\n",
      "sum:  541\n",
      "sum:  334\n",
      "sum:  51\n",
      "sum:  18\n",
      "sum:  3\n",
      "sum:  4470\n",
      "sum:  1889\n",
      "sum:  1241\n",
      "sum:  783\n",
      "sum:  2655\n",
      "sum:  939\n",
      "sum:  514\n",
      "sum:  209\n",
      "sum:  3476\n",
      "sum:  1428\n",
      "sum:  909\n",
      "sum:  448\n"
     ]
    }
   ],
   "source": [
    "cascades = ['cascade_basic', 'cascade_basic_all', 'cascade_basic_maxFAR03', 'cascade_gs',\n",
    "            'cascade_gs_all', 'cascade_gs_maxFAR03', 'cascade_coco', 'cascade_coco_people', 'cascade_combined']\n",
    "min_neigh = [5, 25, 50, 100]\n",
    "results = pd.DataFrame(columns=cascades)\n",
    "for cascade_folder in cascades:\n",
    "    cascade_dict = {}\n",
    "    for mn in min_neigh:\n",
    "        res = awe_test(cascade_folder, 1.1, mn)\n",
    "        for key in res:\n",
    "            cascade_dict[(key, mn)] = res[key]\n",
    "    results[cascade_folder] = pd.Series(cascade_dict).sort_index()"
   ],
   "metadata": {
    "collapsed": false,
    "pycharm": {
     "name": "#%%\n"
    }
   }
  },
  {
   "cell_type": "markdown",
   "source": [
    "Let's compare cascades trained with lower maximum false alarm rate at detecting ears with lower value of minNeighbours\n",
    "parameter."
   ],
   "metadata": {
    "collapsed": false,
    "pycharm": {
     "name": "#%% md\n"
    }
   }
  },
  {
   "cell_type": "code",
   "execution_count": 17,
   "outputs": [],
   "source": [
    "cascades = ['cascade_basic_maxFAR03', 'cascade_basic_all_maxFAR03',\n",
    "            'cascade_gs_maxFAR03','cascade_gs_all_maxFAR03', 'cascade_coco_people_maxFAR03', 'cascade_coco_people_all_maxFAR03']\n",
    "min_neigh = [2, 3, 4, 5, 6, 8, 10, 12]\n",
    "results_mn = pd.DataFrame(columns=cascades)\n",
    "for cascade_folder in cascades:\n",
    "    cascade_dict = {}\n",
    "    for mn in min_neigh:\n",
    "        res = awe_test(cascade_folder, 1.1, mn)\n",
    "        for key in res:\n",
    "            cascade_dict[(key, mn)] = res[key]\n",
    "    results_mn[cascade_folder] = pd.Series(cascade_dict).sort_index()"
   ],
   "metadata": {
    "collapsed": false,
    "pycharm": {
     "name": "#%%\n"
    }
   }
  },
  {
   "cell_type": "markdown",
   "source": [
    "Let's compare different values of detection parameter scaleFactor."
   ],
   "metadata": {
    "collapsed": false,
    "pycharm": {
     "name": "#%% md\n"
    }
   }
  },
  {
   "cell_type": "code",
   "execution_count": 15,
   "outputs": [],
   "source": [
    "cascades = ['cascade_basic_maxFAR03', 'cascade_basic_all_maxFAR03',\n",
    "            'cascade_gs_maxFAR03','cascade_gs_all_maxFAR03', 'cascade_coco_people_maxFAR03', 'cascade_coco_people_all_maxFAR03']\n",
    "scale_factors = [1.03, 1.05, 1.1, 1.2, 1.3, 1.5, 2]\n",
    "results_ln = pd.DataFrame(columns=cascades)\n",
    "for cascade_folder in cascades:\n",
    "    cascade_dict = {}\n",
    "    for sf in scale_factors:\n",
    "        res = awe_test(cascade_folder, sf, 6)\n",
    "        for key in res:\n",
    "            cascade_dict[(key, sf)] = res[key]\n",
    "    results_ln[cascade_folder] = pd.Series(cascade_dict).sort_index()"
   ],
   "metadata": {
    "collapsed": false,
    "pycharm": {
     "name": "#%%\n"
    }
   }
  },
  {
   "cell_type": "markdown",
   "source": [
    "## Results\n",
    "Let's show results graphically. First we will draw a histogram, that will compare numbers of true and false positives\n",
    "detected by cascades trained on different datasets with default training parameters."
   ],
   "metadata": {
    "collapsed": false,
    "pycharm": {
     "name": "#%% md\n"
    }
   }
  },
  {
   "cell_type": "code",
   "execution_count": 92,
   "outputs": [
    {
     "data": {
      "text/plain": "<Figure size 576x432 with 1 Axes>",
      "image/png": "[encoded data removed]"
     },
     "metadata": {
      "needs_background": "light"
     },
     "output_type": "display_data"
    }
   ],
   "source": [
    "r = results.xs(100, level=1, axis=0)\n",
    "df = r.loc[['FP', 'TP'], ['cascade_basic', 'cascade_gs', 'cascade_coco', 'cascade_coco_people', 'cascade_combined']].T.reset_index()\n",
    "m = pd.melt(df, id_vars='index')\n",
    "\n",
    "plt.figure(figsize=(8, 6))\n",
    "gg = sns.barplot(data=m, x='index', y = 'value', hue='variable')\n",
    "plt.gca().legend().set_title('')\n",
    "plt.xlabel('Cascades')\n",
    "plt.ylabel('Number of true and false positives')\n",
    "gg.set_xticklabels(gg.get_xticklabels(), rotation=10)\n",
    "plt.savefig('cascades_fp_tp.pdf')"
   ],
   "metadata": {
    "collapsed": false,
    "pycharm": {
     "name": "#%%\n"
    }
   }
  },
  {
   "cell_type": "markdown",
   "source": [
    "Now we will compare how training parameters `-mode ALL` and `-maxFalseAlarmRate 0.3` improve cascade trained on first\n",
    "positive image set."
   ],
   "metadata": {
    "collapsed": false,
    "pycharm": {
     "name": "#%% md\n"
    }
   }
  },
  {
   "cell_type": "code",
   "execution_count": null,
   "outputs": [],
   "source": [
    "r = results.xs(100, level=1, axis=0)\n",
    "df = r.loc[['FP', 'TP'], ['cascade_basic', 'cascade_basic_maxFAR03', 'cascade_basic_all', 'cascade_basic_all_maxFAR03']].T.reset_index()\n",
    "m = pd.melt(df, id_vars='index')\n",
    "\n",
    "plt.figure(figsize=(8, 6))\n",
    "gg = sns.barplot(data=m, x='index', y = 'value', hue='variable')\n",
    "plt.gca().legend().set_title('')\n",
    "plt.xlabel('Cascades')\n",
    "plt.ylabel('Number of true and false positives')\n",
    "gg.set_xticklabels(gg.get_xticklabels(), rotation=10)\n",
    "plt.savefig('cascades_fp_tp.pdf')\n",
    "\n",
    "\n"
   ],
   "metadata": {
    "collapsed": false,
    "pycharm": {
     "name": "#%%\n"
    }
   }
  }
 ],
 "metadata": {
  "kernelspec": {
   "display_name": "Python 3",
   "language": "python",
   "name": "python3"
  },
  "language_info": {
   "codemirror_mode": {
    "name": "ipython",
    "version": 2
   },
   "file_extension": ".py",
   "mimetype": "text/x-python",
   "name": "python",
   "nbconvert_exporter": "python",
   "pygments_lexer": "ipython2",
   "version": "2.7.6"
  }
 },
 "nbformat": 4,
 "nbformat_minor": 0
}